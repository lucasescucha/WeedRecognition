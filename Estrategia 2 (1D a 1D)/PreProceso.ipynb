{
 "cells": [
  {
   "cell_type": "code",
   "execution_count": null,
   "metadata": {},
   "outputs": [],
   "source": [
    "#!pip install --user --upgrade pip\n",
    "\n",
    "#!pip install opencv-python\n",
    "#!pip install h5py\n",
    "#!pip install keras"
   ]
  },
  {
   "cell_type": "code",
   "execution_count": 1,
   "metadata": {},
   "outputs": [
    {
     "name": "stderr",
     "output_type": "stream",
     "text": [
      "C:\\ProgramData\\Anaconda3\\lib\\site-packages\\h5py\\__init__.py:36: FutureWarning: Conversion of the second argument of issubdtype from `float` to `np.floating` is deprecated. In future, it will be treated as `np.float64 == np.dtype(float).type`.\n",
      "  from ._conv import register_converters as _register_converters\n"
     ]
    }
   ],
   "source": [
    "import cv2\n",
    "import numpy as np\n",
    "import h5py\n",
    "\n",
    "import matplotlib.pyplot as plt"
   ]
  },
  {
   "cell_type": "code",
   "execution_count": 2,
   "metadata": {},
   "outputs": [],
   "source": [
    "import sys \n",
    "import os\n",
    "\n",
    "sys.path.append(os.path.abspath(\"../\"))"
   ]
  },
  {
   "cell_type": "code",
   "execution_count": 3,
   "metadata": {
    "scrolled": true
   },
   "outputs": [],
   "source": [
    "import lib\n",
    "\n",
    "file_name = '../Etiquetado/bounds2.txt'\n",
    "boundsdict, _ = lib.Utils.openBounds(file_name)\n",
    "\n",
    "plot = False\n",
    "\n",
    "input_scale = 0.6\n",
    "output_scale = input_scale/8\n",
    "\n",
    "cap = cv2.VideoCapture('../DCIM/saturated-noaudio.avi')\n",
    "\n",
    "racap = lib.RACapWrapper(cap, 30)\n",
    "\n",
    "dinput = []\n",
    "doutput = []\n",
    "\n",
    "for frame_n in sorted(boundsdict.keys()):    \n",
    "    for bound in boundsdict[frame_n]:\n",
    "        frame, _ = racap.readAt(frame_n)\n",
    "        [height, width, _] = frame.shape      \n",
    "        \n",
    "        newinput = cv2.resize(frame, None, fx=input_scale, fy=input_scale, interpolation=cv2.INTER_NEAREST)\n",
    "        newinput = newinput.astype('float32') / 255\n",
    "               \n",
    "        \n",
    "        output = np.zeros((height, width, 1))\n",
    "        cv2.rectangle(output, tuple(bound[0:2]), tuple(bound[2:4]), 1, cv2.FILLED)\n",
    "        \n",
    "        #Debe tener el mismo width que new input\n",
    "        newoutput = cv2.resize(output, None, fx=input_scale, fy=output_scale, interpolation=cv2.INTER_NEAREST)\n",
    "        newoutput = np.expand_dims(newoutput, axis=2).astype('float32')\n",
    "        \n",
    "        for x in range(int(width*input_scale)):\n",
    "            dinput.append(newinput[:, x, :])        \n",
    "            doutput.append(newoutput[:, x, :])                \n",
    "\n",
    "cap.release()\n",
    "\n",
    "data_fila = h5py.File('data1D.h5', 'w')\n",
    "\n",
    "data_fila.create_dataset('dinput', data = dinput)\n",
    "data_fila.create_dataset('doutput', data = doutput)\n",
    "\n",
    "data_fila.close()"
   ]
  },
  {
   "cell_type": "code",
   "execution_count": null,
   "metadata": {},
   "outputs": [],
   "source": []
  }
 ],
 "metadata": {
  "kernelspec": {
   "display_name": "Python 3",
   "language": "python",
   "name": "python3"
  },
  "language_info": {
   "codemirror_mode": {
    "name": "ipython",
    "version": 3
   },
   "file_extension": ".py",
   "mimetype": "text/x-python",
   "name": "python",
   "nbconvert_exporter": "python",
   "pygments_lexer": "ipython3",
   "version": "3.6.5"
  }
 },
 "nbformat": 4,
 "nbformat_minor": 2
}
