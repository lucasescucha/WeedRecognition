{
 "cells": [
  {
   "cell_type": "markdown",
   "metadata": {},
   "source": [
    "# Script para convertir bounding boxes a formato YOLO v3\n",
    "Se basa en la documentación aportada por: https://medium.com/@manivannan_data/how-to-train-yolov3-to-detect-custom-objects-ccbcafeb13d2"
   ]
  },
  {
   "cell_type": "code",
   "execution_count": 1,
   "metadata": {},
   "outputs": [],
   "source": [
    "import cv2\n",
    "import numpy as np\n",
    "\n",
    "import matplotlib.pyplot as plt"
   ]
  },
  {
   "cell_type": "code",
   "execution_count": 2,
   "metadata": {},
   "outputs": [],
   "source": [
    "import sys \n",
    "import os\n",
    "\n",
    "sys.path.append(os.path.abspath(\"../\"))"
   ]
  },
  {
   "cell_type": "code",
   "execution_count": 3,
   "metadata": {},
   "outputs": [],
   "source": [
    "def boundToYoloBound(class_number, bound, img_width, img_height):\n",
    "    corner_a = bound[0:2]\n",
    "    corner_b = bound[2:4]\n",
    "    \n",
    "    width = abs(corner_a[0]-corner_b[0])\n",
    "    height = abs(corner_a[1]-corner_b[1])\n",
    "    \n",
    "    x = (width/2) + min(corner_a[0], corner_b[0])\n",
    "    y = (height/2) + min(corner_a[1], corner_b[1])\n",
    "    \n",
    "    width /= img_width\n",
    "    height /= img_height\n",
    "    \n",
    "    x /= img_width\n",
    "    y /= img_height    \n",
    "    \n",
    "    #<object-class> <x> <y> <width> <height>\n",
    "    #<class_number> (<absolute_x> / <image_width>) (<absolute_y> / <image_height>)\n",
    "    #(<absolute_width> / <image_width>) (<absolute_height> / <image_height>)\n",
    "    \n",
    "    return [class_number, x, y, width, height]"
   ]
  },
  {
   "cell_type": "code",
   "execution_count": 5,
   "metadata": {},
   "outputs": [],
   "source": [
    "assert boundToYoloBound(0, [5, 4, 2, 2], 8, 8) == [0, 0.4375, 0.375, 0.375, 0.25]\n",
    "assert boundToYoloBound(0, [5, 4, 2, 2], 8, 8) == boundToYoloBound(0, [2, 2, 5, 4], 8, 8)"
   ]
  },
  {
   "cell_type": "code",
   "execution_count": 6,
   "metadata": {},
   "outputs": [],
   "source": [
    "dataset_folder = \"YOLOv3Dataset_\""
   ]
  },
  {
   "cell_type": "code",
   "execution_count": 11,
   "metadata": {},
   "outputs": [],
   "source": [
    "import shutil\n",
    "import os\n",
    "\n",
    "shutil.rmtree(dataset_folder)\n",
    "os.mkdir(dataset_folder)\n",
    "os.mkdir(dataset_folder + \"/dataset\")"
   ]
  },
  {
   "cell_type": "code",
   "execution_count": 12,
   "metadata": {},
   "outputs": [],
   "source": [
    "import csv\n",
    "import lib\n",
    "\n",
    "file_name = '../Etiquetado/bounds2.txt'\n",
    "bounds_dict, _ = lib.Utils.openBounds(file_name)\n",
    "\n",
    "image_scaling = 0.5\n",
    "class_number = 0\n",
    "\n",
    "cap = cv2.VideoCapture('../DCIM/saturated-noaudio.avi')\n",
    "racap = lib.RACapWrapper(cap, 30)\n",
    "\n",
    "height, width = None, None\n",
    "\n",
    "for frame_n in sorted(bounds_dict.keys()):    \n",
    "    frame, _ = racap.readAt(frame_n)\n",
    "    \n",
    "    if height is None:\n",
    "        [height, width, _] = frame.shape\n",
    "    \n",
    "    frame = cv2.resize(frame, None, fx=image_scaling, fy=image_scaling, interpolation=cv2.INTER_NEAREST)\n",
    "    \n",
    "    cv2.imwrite(dataset_folder + \"/dataset/\" + str(frame_n) + \".jpg\", frame)\n",
    "    \n",
    "    with open(dataset_folder + \"/dataset/\" + str(frame_n) + \".txt\", \"w\", newline='') as bounds_file:    \n",
    "        bound_writer = csv.writer(bounds_file, delimiter=' ', quotechar='|', quoting=csv.QUOTE_MINIMAL)\n",
    "        for bound in bounds_dict[frame_n]:\n",
    "            bound_writer.writerow(boundToYoloBound(class_number, bound, width, height))   \n",
    "            \n",
    "cap.release()"
   ]
  },
  {
   "cell_type": "code",
   "execution_count": 13,
   "metadata": {},
   "outputs": [],
   "source": [
    "import os\n",
    "\n",
    "def saveFileList(file_name, file_list):\n",
    "     with open(file_name, \"w\") as file:    \n",
    "        for file_name in file_list:\n",
    "            file.write(file_name + \"\\n\")\n",
    "\n",
    "dataset_path = \"/home/lbarrera/Documentos/proyecto_ia/YOLO/Dataset/\"\n",
    "percentage_train = 0.7;\n",
    "\n",
    "for r, d, files in os.walk(dataset_folder + \"/dataset\"):\n",
    "    files = [f for f in files if \".jpg\" in f]\n",
    "    \n",
    "    frames_files = len(files)\n",
    "    train_files_count = int(frames_files*percentage_train)\n",
    "    \n",
    "    saveFileList(dataset_folder + \"/train.txt\", [dataset_path + f for f in files[0:train_files_count]])\n",
    "    saveFileList(dataset_folder + \"/test.txt\", [dataset_path + f for f in files[train_files_count:]])"
   ]
  },
  {
   "cell_type": "code",
   "execution_count": null,
   "metadata": {},
   "outputs": [],
   "source": []
  }
 ],
 "metadata": {
  "kernelspec": {
   "display_name": "Python 3",
   "language": "python",
   "name": "python3"
  },
  "language_info": {
   "codemirror_mode": {
    "name": "ipython",
    "version": 3
   },
   "file_extension": ".py",
   "mimetype": "text/x-python",
   "name": "python",
   "nbconvert_exporter": "python",
   "pygments_lexer": "ipython3",
   "version": "3.6.5"
  }
 },
 "nbformat": 4,
 "nbformat_minor": 2
}
