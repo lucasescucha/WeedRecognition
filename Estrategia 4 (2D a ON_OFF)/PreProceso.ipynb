{
 "cells": [
  {
   "cell_type": "code",
   "execution_count": 1,
   "metadata": {},
   "outputs": [
    {
     "name": "stderr",
     "output_type": "stream",
     "text": [
      "C:\\ProgramData\\Anaconda3\\lib\\site-packages\\h5py\\__init__.py:36: FutureWarning: Conversion of the second argument of issubdtype from `float` to `np.floating` is deprecated. In future, it will be treated as `np.float64 == np.dtype(float).type`.\n",
      "  from ._conv import register_converters as _register_converters\n"
     ]
    }
   ],
   "source": [
    "import cv2\n",
    "import numpy as np\n",
    "import h5py\n",
    "\n",
    "import matplotlib.pyplot as plt"
   ]
  },
  {
   "cell_type": "code",
   "execution_count": 2,
   "metadata": {},
   "outputs": [],
   "source": [
    "import sys \n",
    "import os\n",
    "\n",
    "sys.path.append(os.path.abspath(\"../\"))"
   ]
  },
  {
   "cell_type": "code",
   "execution_count": 3,
   "metadata": {},
   "outputs": [],
   "source": [
    "def getBoundCenter(bound):\n",
    "    corner_a = bound[0:2]\n",
    "    corner_b = bound[2:4]\n",
    "    \n",
    "    width = abs(corner_a[0]-corner_b[0])\n",
    "    height = abs(corner_a[1]-corner_b[1])\n",
    "    \n",
    "    x = (width/2) + min(corner_a[0], corner_b[0])\n",
    "    y = (height/2) + min(corner_a[1], corner_b[1])\n",
    "\n",
    "    return [int(x), int(y)]"
   ]
  },
  {
   "cell_type": "code",
   "execution_count": 4,
   "metadata": {
    "scrolled": true
   },
   "outputs": [],
   "source": [
    "import lib\n",
    "\n",
    "file_name = '../Etiquetado/bounds2.txt'\n",
    "boundsdict, _ = lib.Utils.openBounds(file_name)\n",
    "\n",
    "cap = cv2.VideoCapture('../DCIM/saturated-noaudio.avi')\n",
    "\n",
    "racap = lib.RACapWrapper(cap, 30)\n",
    "\n",
    "frame_height = 420 #para recortar la fecha y hora\n",
    "\n",
    "window_size = 40\n",
    "step_size = 4\n",
    "\n",
    "height, width = None, None\n",
    "\n",
    "plot = False\n",
    "\n",
    "x_data = []\n",
    "y_data = []\n",
    "\n",
    "for frame_n in sorted(boundsdict.keys()):    \n",
    "    frame, _ = racap.readAt(frame_n)        \n",
    "    frame = frame[:frame_height,:]\n",
    "    \n",
    "    if height is None:\n",
    "        [height, width, _] = frame.shape      \n",
    "    \n",
    "    centers = [getBoundCenter(bound) for bound in boundsdict[frame_n]]    \n",
    "    \n",
    "    start_index, end_index = 0, window_size\n",
    "    \n",
    "    while end_index < width:\n",
    "        x_data.append(frame[:, start_index:end_index].astype('float32') / 255)\n",
    "        center_in_frame = len([c for c in centers if start_index < c[0] < end_index]) > 0\n",
    "        y_data.append(int(center_in_frame))      \n",
    "        \n",
    "        if plot:\n",
    "            fig = plt.figure(figsize=(8, 8))\n",
    "            \n",
    "            fig.add_subplot(1, 1, 1)                \n",
    "            plt.imshow(frame[:, start_index:end_index])                \n",
    "            \n",
    "            print(int(center_in_frame))\n",
    "        \n",
    "        start_index += step_size\n",
    "        end_index += step_size   \n",
    "\n",
    "cap.release()"
   ]
  },
  {
   "cell_type": "code",
   "execution_count": 5,
   "metadata": {},
   "outputs": [],
   "source": [
    "import numpy as np\n",
    "\n",
    "def get_balance_data(y_data):\n",
    "    y_data = np.array(y_data)\n",
    "    \n",
    "    zeros_args = np.argwhere(y_data == 0)\n",
    "    ones_args = np.argwhere(y_data == 1)\n",
    "    \n",
    "    print(\"zeros:\", len(zeros_args))\n",
    "    print(\"ones:\", len(ones_args))\n",
    "    \n",
    "    diff = len(zeros_args) - len(ones_args)\n",
    "    print(\"diff:\", diff)\n",
    "    \n",
    "    return zeros_args, ones_args, abs(diff)\n",
    "    \n",
    "def balance_data(x_data, y_data, method='balance'):\n",
    "    x_data = x_data.copy()\n",
    "    y_data = y_data.copy()\n",
    "    \n",
    "    zeros_args, ones_args, diff = get_balance_data(y_data)\n",
    "    \n",
    "    if diff==0: return\n",
    "    \n",
    "    if method=='balance':\n",
    "        remove_count = int(diff/2)\n",
    "        add_count = int(diff/2)\n",
    "    elif method=='remove':\n",
    "        remove_count = diff\n",
    "        add_count = 0\n",
    "    elif method=='add':\n",
    "        remove_count = 0\n",
    "        add_count = diff\n",
    "    \n",
    "    if method != 'remove':\n",
    "        add_args = ones_args if len(zeros_args)>len(ones_args) else zeros_args   \n",
    "\n",
    "        for i in range(add_count):\n",
    "            arg = add_args[np.random.randint(0, len(add_args)-1)][0]\n",
    "\n",
    "            x_data.append(x_data[arg].copy())\n",
    "            y_data.append(y_data[arg])\n",
    "    \n",
    "    if method != 'add':\n",
    "        remove_args = zeros_args if len(zeros_args)>len(ones_args) else ones_args   \n",
    "        np.random.shuffle(remove_args)\n",
    "        remove_args = remove_args[0:remove_count]\n",
    "\n",
    "        offset = 0\n",
    "        for arg in np.sort(remove_args, axis=None):       \n",
    "            x_data.pop(arg-offset)\n",
    "            y_data.pop(arg-offset)\n",
    "\n",
    "            offset += 1\n",
    "    \n",
    "    return x_data, y_data"
   ]
  },
  {
   "cell_type": "code",
   "execution_count": 6,
   "metadata": {
    "scrolled": true
   },
   "outputs": [
    {
     "name": "stdout",
     "output_type": "stream",
     "text": [
      "zeros: 49976\n",
      "ones: 4624\n",
      "diff: 45352\n"
     ]
    }
   ],
   "source": [
    "get_balance_data(y_data);"
   ]
  },
  {
   "cell_type": "code",
   "execution_count": 7,
   "metadata": {},
   "outputs": [
    {
     "name": "stdout",
     "output_type": "stream",
     "text": [
      "zeros: 49976\n",
      "ones: 4624\n",
      "diff: 45352\n"
     ]
    }
   ],
   "source": [
    "balanced_x_data, balanced_y_data = balance_data(x_data, y_data, method='remove')"
   ]
  },
  {
   "cell_type": "code",
   "execution_count": 8,
   "metadata": {},
   "outputs": [
    {
     "name": "stdout",
     "output_type": "stream",
     "text": [
      "zeros: 4624\n",
      "ones: 4624\n",
      "diff: 0\n"
     ]
    }
   ],
   "source": [
    "get_balance_data(balanced_y_data);"
   ]
  },
  {
   "cell_type": "code",
   "execution_count": 9,
   "metadata": {},
   "outputs": [],
   "source": [
    "data_fila = h5py.File('data.h5', 'w')\n",
    "\n",
    "data_fila.create_dataset('x_data', data = balanced_x_data[:int(len(balanced_x_data))])\n",
    "data_fila.create_dataset('y_data', data = balanced_y_data[:int(len(balanced_y_data))])\n",
    "\n",
    "data_fila.close()"
   ]
  },
  {
   "cell_type": "code",
   "execution_count": null,
   "metadata": {},
   "outputs": [],
   "source": []
  }
 ],
 "metadata": {
  "kernelspec": {
   "display_name": "Python 3",
   "language": "python",
   "name": "python3"
  },
  "language_info": {
   "codemirror_mode": {
    "name": "ipython",
    "version": 3
   },
   "file_extension": ".py",
   "mimetype": "text/x-python",
   "name": "python",
   "nbconvert_exporter": "python",
   "pygments_lexer": "ipython3",
   "version": "3.6.5"
  }
 },
 "nbformat": 4,
 "nbformat_minor": 2
}
