{
 "cells": [
  {
   "cell_type": "code",
   "execution_count": 0,
   "metadata": {
    "colab": {
     "base_uri": "https://localhost:8080/",
     "height": 51
    },
    "colab_type": "code",
    "executionInfo": {
     "elapsed": 1715,
     "status": "ok",
     "timestamp": 1525479045335,
     "user": {
      "displayName": "Matias Grinberg",
      "photoUrl": "https://lh3.googleusercontent.com/a/default-user=s128",
      "userId": "100548654677224920086"
     },
     "user_tz": 180
    },
    "id": "k7TAr4jjsqcY",
    "outputId": "1baa1515-23bd-4659-d897-f7cc7773e633"
   },
   "outputs": [
    {
     "name": "stderr",
     "output_type": "stream",
     "text": [
      "Using TensorFlow backend.\n"
     ]
    },
    {
     "data": {
      "text/plain": [
       "'2.1.6'"
      ]
     },
     "execution_count": 1,
     "metadata": {
      "tags": []
     },
     "output_type": "execute_result"
    }
   ],
   "source": [
    "import keras\n",
    "keras.__version__"
   ]
  },
  {
   "cell_type": "markdown",
   "metadata": {
    "colab_type": "text",
    "id": "t8IPvVrqsqcd"
   },
   "source": [
    "# Introduccion a convnets\n",
    "\n",
    "Primero creamos un modelo simple:"
   ]
  },
  {
   "cell_type": "code",
   "execution_count": 0,
   "metadata": {
    "colab": {},
    "colab_type": "code",
    "id": "PFDOY4hssqce"
   },
   "outputs": [],
   "source": [
    "from keras import layers\n",
    "from keras import models\n",
    "\n",
    "model = models.Sequential()\n",
    "model.add(layers.Conv2D(32, (3, 3), activation='relu', input_shape=(28, 28, 1)))\n",
    "model.add(layers.MaxPooling2D((2, 2)))\n",
    "model.add(layers.Conv2D(64, (3, 3), activation='relu'))\n",
    "model.add(layers.MaxPooling2D((2, 2)))\n",
    "model.add(layers.Conv2D(64, (3, 3), activation='relu'))"
   ]
  },
  {
   "cell_type": "markdown",
   "metadata": {
    "colab_type": "text",
    "id": "6XXw225Osqcg"
   },
   "source": [
    "Vemos como va quedando la arquitectura de la convnet:"
   ]
  },
  {
   "cell_type": "code",
   "execution_count": 0,
   "metadata": {
    "colab": {
     "base_uri": "https://localhost:8080/",
     "height": 308
    },
    "colab_type": "code",
    "executionInfo": {
     "elapsed": 730,
     "status": "ok",
     "timestamp": 1525479047034,
     "user": {
      "displayName": "Matias Grinberg",
      "photoUrl": "https://lh3.googleusercontent.com/a/default-user=s128",
      "userId": "100548654677224920086"
     },
     "user_tz": 180
    },
    "id": "3xnOFaw_sqcg",
    "outputId": "8cbd1894-6b63-460b-e1e3-2481353cf099"
   },
   "outputs": [
    {
     "name": "stdout",
     "output_type": "stream",
     "text": [
      "_________________________________________________________________\n",
      "Layer (type)                 Output Shape              Param #   \n",
      "=================================================================\n",
      "conv2d_1 (Conv2D)            (None, 26, 26, 32)        320       \n",
      "_________________________________________________________________\n",
      "max_pooling2d_1 (MaxPooling2 (None, 13, 13, 32)        0         \n",
      "_________________________________________________________________\n",
      "conv2d_2 (Conv2D)            (None, 11, 11, 64)        18496     \n",
      "_________________________________________________________________\n",
      "max_pooling2d_2 (MaxPooling2 (None, 5, 5, 64)          0         \n",
      "_________________________________________________________________\n",
      "conv2d_3 (Conv2D)            (None, 3, 3, 64)          36928     \n",
      "=================================================================\n",
      "Total params: 55,744\n",
      "Trainable params: 55,744\n",
      "Non-trainable params: 0\n",
      "_________________________________________________________________\n"
     ]
    }
   ],
   "source": [
    "model.summary()"
   ]
  },
  {
   "cell_type": "markdown",
   "metadata": {
    "colab_type": "text",
    "id": "RGXkkyoMsqci"
   },
   "source": [
    "Agregamos un par de capas mas al final de la red para redimensionar el resultado de las capas convolucionales."
   ]
  },
  {
   "cell_type": "code",
   "execution_count": 0,
   "metadata": {
    "colab": {},
    "colab_type": "code",
    "id": "bEWi09Susqcj"
   },
   "outputs": [],
   "source": [
    "model.add(layers.Flatten())\n",
    "model.add(layers.Dense(64, activation='relu'))\n",
    "model.add(layers.Dense(10, activation='softmax'))"
   ]
  },
  {
   "cell_type": "markdown",
   "metadata": {
    "colab_type": "text",
    "id": "ulutI0tusqcm"
   },
   "source": [
    "Como vamos a hacer una clasificacion de 10 clases agregamos un layer final con 10 salidas y activacion softmax.\n",
    "\n",
    "Veamos como queda la red final:\n"
   ]
  },
  {
   "cell_type": "code",
   "execution_count": 0,
   "metadata": {
    "colab": {
     "base_uri": "https://localhost:8080/",
     "height": 411
    },
    "colab_type": "code",
    "executionInfo": {
     "elapsed": 529,
     "status": "ok",
     "timestamp": 1525479048613,
     "user": {
      "displayName": "Matias Grinberg",
      "photoUrl": "https://lh3.googleusercontent.com/a/default-user=s128",
      "userId": "100548654677224920086"
     },
     "user_tz": 180
    },
    "id": "Vjnm_xE-sqcm",
    "outputId": "8acb48c0-9872-4802-b0a8-c19d653dbfe2"
   },
   "outputs": [
    {
     "name": "stdout",
     "output_type": "stream",
     "text": [
      "_________________________________________________________________\n",
      "Layer (type)                 Output Shape              Param #   \n",
      "=================================================================\n",
      "conv2d_1 (Conv2D)            (None, 26, 26, 32)        320       \n",
      "_________________________________________________________________\n",
      "max_pooling2d_1 (MaxPooling2 (None, 13, 13, 32)        0         \n",
      "_________________________________________________________________\n",
      "conv2d_2 (Conv2D)            (None, 11, 11, 64)        18496     \n",
      "_________________________________________________________________\n",
      "max_pooling2d_2 (MaxPooling2 (None, 5, 5, 64)          0         \n",
      "_________________________________________________________________\n",
      "conv2d_3 (Conv2D)            (None, 3, 3, 64)          36928     \n",
      "_________________________________________________________________\n",
      "flatten_1 (Flatten)          (None, 576)               0         \n",
      "_________________________________________________________________\n",
      "dense_1 (Dense)              (None, 64)                36928     \n",
      "_________________________________________________________________\n",
      "dense_2 (Dense)              (None, 10)                650       \n",
      "=================================================================\n",
      "Total params: 93,322\n",
      "Trainable params: 93,322\n",
      "Non-trainable params: 0\n",
      "_________________________________________________________________\n"
     ]
    }
   ],
   "source": [
    "model.summary()"
   ]
  },
  {
   "cell_type": "markdown",
   "metadata": {
    "colab_type": "text",
    "id": "5TNhEjBRsqco"
   },
   "source": [
    "Arriba se puede ver que las salidas de form `(3, 3, 64)` se aplanaron en vectores de forma `(576,)`, antes de pasar por los layers de tipo `Dense`.\n",
    "\n",
    "Pasamos a entrenar la red en el dataset MNIST:"
   ]
  },
  {
   "cell_type": "code",
   "execution_count": 0,
   "metadata": {
    "colab": {
     "base_uri": "https://localhost:8080/",
     "height": 51
    },
    "colab_type": "code",
    "executionInfo": {
     "elapsed": 2129,
     "status": "ok",
     "timestamp": 1525479051077,
     "user": {
      "displayName": "Matias Grinberg",
      "photoUrl": "https://lh3.googleusercontent.com/a/default-user=s128",
      "userId": "100548654677224920086"
     },
     "user_tz": 180
    },
    "id": "B7Yg-vfPsqcp",
    "outputId": "b76f7f2c-c5be-401c-eca6-e4a7f1650b7e"
   },
   "outputs": [
    {
     "name": "stdout",
     "output_type": "stream",
     "text": [
      "Downloading data from https://s3.amazonaws.com/img-datasets/mnist.npz\n",
      "11493376/11490434 [==============================] - 1s 0us/step\n"
     ]
    }
   ],
   "source": [
    "from keras.datasets import mnist\n",
    "from keras.utils import to_categorical\n",
    "\n",
    "(train_images, train_labels), (test_images, test_labels) = mnist.load_data()\n",
    "\n",
    "train_images = train_images.reshape((60000, 28, 28, 1))\n",
    "train_images = train_images.astype('float32') / 255\n",
    "\n",
    "test_images = test_images.reshape((10000, 28, 28, 1))\n",
    "test_images = test_images.astype('float32') / 255\n",
    "\n",
    "train_labels = to_categorical(train_labels)\n",
    "test_labels = to_categorical(test_labels)"
   ]
  },
  {
   "cell_type": "code",
   "execution_count": 0,
   "metadata": {
    "colab": {
     "base_uri": "https://localhost:8080/",
     "height": 225
    },
    "colab_type": "code",
    "executionInfo": {
     "elapsed": 60414,
     "status": "ok",
     "timestamp": 1525479111522,
     "user": {
      "displayName": "Matias Grinberg",
      "photoUrl": "https://lh3.googleusercontent.com/a/default-user=s128",
      "userId": "100548654677224920086"
     },
     "user_tz": 180
    },
    "id": "2Xv6bV6psqcr",
    "outputId": "26c5a698-4cf2-4f56-a297-fd282db6c030"
   },
   "outputs": [
    {
     "name": "stdout",
     "output_type": "stream",
     "text": [
      "Epoch 1/5\n",
      "60000/60000 [==============================] - 13s 216us/step - loss: 0.1789 - acc: 0.9451\n",
      "Epoch 2/5\n",
      "60000/60000 [==============================] - 12s 193us/step - loss: 0.0476 - acc: 0.9853\n",
      "Epoch 3/5\n",
      "40256/60000 [===================>..........] - ETA: 3s - loss: 0.0327 - acc: 0.989760000/60000 [==============================] - 12s 192us/step - loss: 0.0333 - acc: 0.9899\n",
      "Epoch 4/5\n",
      "60000/60000 [==============================] - 12s 192us/step - loss: 0.0257 - acc: 0.9919\n",
      "Epoch 5/5\n",
      "56320/60000 [===========================>..] - ETA: 0s - loss: 0.0201 - acc: 0.993660000/60000 [==============================] - 12s 197us/step - loss: 0.0199 - acc: 0.9936\n"
     ]
    },
    {
     "data": {
      "text/plain": [
       "<keras.callbacks.History at 0x7f5822df2b00>"
      ]
     },
     "execution_count": 7,
     "metadata": {
      "tags": []
     },
     "output_type": "execute_result"
    }
   ],
   "source": [
    "model.compile(optimizer='rmsprop',\n",
    "              loss='categorical_crossentropy',\n",
    "              metrics=['accuracy'])\n",
    "model.fit(train_images, train_labels, epochs=5, batch_size=64)"
   ]
  },
  {
   "cell_type": "markdown",
   "metadata": {
    "colab_type": "text",
    "id": "KSMHnZSjsqcu"
   },
   "source": [
    "Finalmente evaluamos el modelo fiteado."
   ]
  },
  {
   "cell_type": "code",
   "execution_count": 0,
   "metadata": {
    "colab": {
     "base_uri": "https://localhost:8080/",
     "height": 34
    },
    "colab_type": "code",
    "executionInfo": {
     "elapsed": 2045,
     "status": "ok",
     "timestamp": 1525479113615,
     "user": {
      "displayName": "Matias Grinberg",
      "photoUrl": "https://lh3.googleusercontent.com/a/default-user=s128",
      "userId": "100548654677224920086"
     },
     "user_tz": 180
    },
    "id": "VmVvix28sqcv",
    "outputId": "ffa987b3-b2c9-4572-9120-af7ca5a8fe47"
   },
   "outputs": [
    {
     "name": "stdout",
     "output_type": "stream",
     "text": [
      "10000/10000 [==============================] - 1s 133us/step\n"
     ]
    }
   ],
   "source": [
    "test_loss, test_acc = model.evaluate(test_images, test_labels)"
   ]
  },
  {
   "cell_type": "code",
   "execution_count": 0,
   "metadata": {
    "colab": {
     "base_uri": "https://localhost:8080/",
     "height": 34
    },
    "colab_type": "code",
    "executionInfo": {
     "elapsed": 616,
     "status": "ok",
     "timestamp": 1525479114293,
     "user": {
      "displayName": "Matias Grinberg",
      "photoUrl": "https://lh3.googleusercontent.com/a/default-user=s128",
      "userId": "100548654677224920086"
     },
     "user_tz": 180
    },
    "id": "6_tDVnSGsqcy",
    "outputId": "d586c8c5-8fc3-469e-c28e-7f525c7ac3e3"
   },
   "outputs": [
    {
     "data": {
      "text/plain": [
       "0.9926"
      ]
     },
     "execution_count": 9,
     "metadata": {
      "tags": []
     },
     "output_type": "execute_result"
    }
   ],
   "source": [
    "test_acc"
   ]
  }
 ],
 "metadata": {
  "accelerator": "GPU",
  "colab": {
   "collapsed_sections": [],
   "name": "PRACTICA_GUIADA_intro_a_convnets.ipynb",
   "provenance": [],
   "version": "0.3.2"
  },
  "kernelspec": {
   "display_name": "Python 3",
   "language": "python",
   "name": "python3"
  },
  "language_info": {
   "codemirror_mode": {
    "name": "ipython",
    "version": 3
   },
   "file_extension": ".py",
   "mimetype": "text/x-python",
   "name": "python",
   "nbconvert_exporter": "python",
   "pygments_lexer": "ipython3",
   "version": "3.6.5"
  }
 },
 "nbformat": 4,
 "nbformat_minor": 1
}
